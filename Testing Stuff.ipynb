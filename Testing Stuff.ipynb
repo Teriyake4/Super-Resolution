{
 "cells": [
  {
   "cell_type": "code",
   "execution_count": 1,
   "metadata": {},
   "outputs": [
    {
     "name": "stdout",
     "output_type": "stream",
     "text": [
      "[2 4 2 8 1 6 3 3 8 9 4 8 7 2 1 0 5 5 1 1 1 1 6 0 8 6 2 4 6 0 5 6 7 1 1 9 5\n",
      " 3 1 0 2 7 9 2 5 2 1 4 6 8 3 1 6 7 1 2 2 8 8 9 2 9 6 2 3 3 2 6 5 1 0 4 3 0\n",
      " 1 7 3 9 6 8 2 2 2 0 6 8 8 2 2 7 1 9 5 3 4 4 9 3 4 2]\n",
      "0.000494624997372739\n",
      "0.00027070799842476845\n",
      "0.11361658299574628\n",
      "9.447280416992726\n"
     ]
    }
   ],
   "source": [
    "# Testing time to convert 2D np array into 1D\n",
    "\n",
    "import timeit\n",
    "setup = '''\n",
    "import numpy as np\n",
    "nd = np.random.randint(10, size=(500, 500))\n",
    "'''\n",
    "import numpy as np\n",
    "nd = np.random.randint(10, size=(10, 10))\n",
    "nd = np.array(list(nd.flat))\n",
    "print(nd)\n",
    "\n",
    "print(timeit.timeit('nd = np.reshape(nd, -1)', setup=setup, number=1000))\n",
    "print(timeit.timeit('nd = np.ravel(nd)', setup=setup, number=1000))\n",
    "# print(timeit.timeit('nd = np.hstack(nd)', setup=setup, number=1000))\n",
    "print(timeit.timeit('nd = nd.flatten()', setup=setup, number=1000))\n",
    "print(timeit.timeit('nd = np.array(list(nd.flat))', setup=setup, number=1000))"
   ]
  },
  {
   "cell_type": "code",
   "execution_count": null,
   "metadata": {},
   "outputs": [],
   "source": [
    "import os\n",
    "\n",
    "input = os.path.join(\"test media\", \"original.mp4\")\n",
    "output = os.path.join(\"test media\", \"envy.mp4\")\n",
    "output_frames = os.path.join(\"test media\", \"imgs\")\n",
    "vcodec = \"h264\"\n",
    "preset = \"slow\"\n",
    "bitrate = \"10\"\n",
    "res = 1920/2"
   ]
  },
  {
   "cell_type": "code",
   "execution_count": null,
   "metadata": {},
   "outputs": [],
   "source": [
    "# Testing decoding video into stream of frames\n",
    "\n",
    "import videoprocessor as vp\n",
    "\n",
    "out = vp.framesfromvideo(input, 4000, 100)\n",
    "print(\"Finish Transcoding\")\n",
    "for i, frame in enumerate(out):\n",
    "    frame.save(os.path.join(output_frames, f\"frame_{i}.png\"))"
   ]
  },
  {
   "cell_type": "code",
   "execution_count": 9,
   "metadata": {},
   "outputs": [
    {
     "name": "stdout",
     "output_type": "stream",
     "text": [
      "[6]\n",
      "[0 1 2 3 4 5]\n",
      "[array([0, 1]), array([2, 3]), array([4, 5])]\n",
      "[0 1 2 3 4 5]\n"
     ]
    }
   ],
   "source": [
    "# Test\n",
    "import numpy as np\n",
    "x = np.array([0, 1, 2, 3, 4, 5, 6])\n",
    "y = x[-1:]\n",
    "print(y)\n",
    "x = x[:-1]\n",
    "print(x)\n",
    "x = np.split(x, (len(x) / 2))\n",
    "print(x)\n",
    "x = np.ravel(x)\n",
    "# x = np.append(x, y)\n",
    "print(x)"
   ]
  },
  {
   "cell_type": "code",
   "execution_count": 1,
   "metadata": {},
   "outputs": [
    {
     "name": "stdout",
     "output_type": "stream",
     "text": [
      "PyTorch version: 2.3.1\n",
      "Is MPS (Metal Performance Shader) built? True\n",
      "Is MPS available? True\n",
      "Using device: mps\n"
     ]
    }
   ],
   "source": [
    "import torch\n",
    "\n",
    "print(f\"PyTorch version: {torch.__version__}\")\n",
    "\n",
    "# Check PyTorch has access to MPS (Metal Performance Shader, Apple's GPU architecture)\n",
    "print(f\"Is MPS (Metal Performance Shader) built? {torch.backends.mps.is_built()}\")\n",
    "print(f\"Is MPS available? {torch.backends.mps.is_available()}\")\n",
    "\n",
    "# Set the device      \n",
    "device = \"mps\" if torch.backends.mps.is_available() else \"cpu\"\n",
    "print(f\"Using device: {device}\")"
   ]
  }
 ],
 "metadata": {
  "kernelspec": {
   "display_name": "Python 3",
   "language": "python",
   "name": "python3"
  },
  "language_info": {
   "codemirror_mode": {
    "name": "ipython",
    "version": 3
   },
   "file_extension": ".py",
   "mimetype": "text/x-python",
   "name": "python",
   "nbconvert_exporter": "python",
   "pygments_lexer": "ipython3",
   "version": "3.12.2"
  }
 },
 "nbformat": 4,
 "nbformat_minor": 2
}
