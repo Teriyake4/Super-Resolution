{
 "cells": [
  {
   "cell_type": "code",
   "execution_count": 1,
   "metadata": {},
   "outputs": [
    {
     "name": "stdout",
     "output_type": "stream",
     "text": [
      "[5 4 5 3 0 3 5 5 7 1 4 7 2 2 9 1 1 7 9 7 2 5 3 1 5 7 6 6 8 2 8 3 4 7 7 9 2\n",
      " 8 6 9 3 8 8 4 5 0 0 2 7 3 0 7 6 1 8 2 8 1 0 8 7 0 2 4 0 6 0 9 3 6 3 7 4 4\n",
      " 2 5 2 7 3 1 4 1 3 0 9 3 9 6 9 5 5 5 3 5 5 1 5 0 2 8]\n",
      "0.0006214999993972015\n",
      "0.00029859999995096587\n",
      "0.01623699999981909\n",
      "12.431208100000731\n"
     ]
    }
   ],
   "source": [
    "# Testing time to convert 2D np array into 1D\n",
    "\n",
    "import timeit\n",
    "setup = '''\n",
    "import numpy as np\n",
    "nd = np.random.randint(10, size=(500, 500))\n",
    "'''\n",
    "import numpy as np\n",
    "nd = np.random.randint(10, size=(10, 10))\n",
    "nd = np.array(list(nd.flat))\n",
    "print(nd)\n",
    "\n",
    "print(timeit.timeit('nd = np.reshape(nd, -1)', setup=setup, number=1000))\n",
    "print(timeit.timeit('nd = np.ravel(nd)', setup=setup, number=1000))\n",
    "# print(timeit.timeit('nd = np.hstack(nd)', setup=setup, number=1000))\n",
    "print(timeit.timeit('nd = nd.flatten()', setup=setup, number=1000))\n",
    "print(timeit.timeit('nd = np.array(list(nd.flat))', setup=setup, number=1000))"
   ]
  },
  {
   "cell_type": "code",
   "execution_count": null,
   "metadata": {},
   "outputs": [],
   "source": [
    "import os\n",
    "\n",
    "input = os.path.join(\"test media\", \"original.mp4\")\n",
    "output = os.path.join(\"test media\", \"envy.mp4\")\n",
    "output_frames = os.path.join(\"test media\", \"imgs\")\n",
    "vcodec = \"h264\"\n",
    "preset = \"slow\"\n",
    "bitrate = \"10\"\n",
    "res = 1920/2"
   ]
  },
  {
   "cell_type": "code",
   "execution_count": null,
   "metadata": {},
   "outputs": [],
   "source": [
    "# Testing decoding video into stream of frames\n",
    "\n",
    "import videoprocessor as vp\n",
    "\n",
    "out = vp.framesfromvideo(input, 4000, 100)\n",
    "print(\"Finish Transcoding\")\n",
    "for i, frame in enumerate(out):\n",
    "    frame.save(os.path.join(output_frames, f\"frame_{i}.png\"))"
   ]
  },
  {
   "cell_type": "code",
   "execution_count": 9,
   "metadata": {},
   "outputs": [
    {
     "name": "stdout",
     "output_type": "stream",
     "text": [
      "[6]\n",
      "[0 1 2 3 4 5]\n",
      "[array([0, 1]), array([2, 3]), array([4, 5])]\n",
      "[0 1 2 3 4 5]\n"
     ]
    }
   ],
   "source": [
    "# Test\n",
    "import numpy as np\n",
    "x = np.array([0, 1, 2, 3, 4, 5, 6])\n",
    "y = x[-1:]\n",
    "print(y)\n",
    "x = x[:-1]\n",
    "print(x)\n",
    "x = np.split(x, (len(x) / 2))\n",
    "print(x)\n",
    "x = np.ravel(x)\n",
    "# x = np.append(x, y)\n",
    "print(x)"
   ]
  }
 ],
 "metadata": {
  "kernelspec": {
   "display_name": "Python 3",
   "language": "python",
   "name": "python3"
  },
  "language_info": {
   "codemirror_mode": {
    "name": "ipython",
    "version": 3
   },
   "file_extension": ".py",
   "mimetype": "text/x-python",
   "name": "python",
   "nbconvert_exporter": "python",
   "pygments_lexer": "ipython3",
   "version": "3.12.3"
  }
 },
 "nbformat": 4,
 "nbformat_minor": 2
}
